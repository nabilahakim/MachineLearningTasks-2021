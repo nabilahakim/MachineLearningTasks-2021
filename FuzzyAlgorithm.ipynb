{
  "nbformat": 4,
  "nbformat_minor": 0,
  "metadata": {
    "colab": {
      "provenance": []
    },
    "kernelspec": {
      "name": "python3",
      "display_name": "Python 3"
    },
    "language_info": {
      "name": "python"
    }
  },
  "cells": [
    {
      "cell_type": "markdown",
      "metadata": {
        "id": "ZJ8GeFAvvP12"
      },
      "source": [
        "Library Yang Digunakan"
      ]
    },
    {
      "cell_type": "code",
      "metadata": {
        "id": "npGaTBt3vPF9"
      },
      "source": [
        "import pandas as pd\n",
        "import numpy as np\n",
        "import matplotlib.pyplot as plt"
      ],
      "execution_count": null,
      "outputs": []
    },
    {
      "cell_type": "markdown",
      "metadata": {
        "id": "FeMIYMHpc-Y1"
      },
      "source": [
        "Function Membaca File"
      ]
    },
    {
      "cell_type": "code",
      "metadata": {
        "id": "_EPnALh184ZD"
      },
      "source": [
        "restoran = pd.read_excel('restoran.xlsx')\n",
        "restoran = restoran.to_numpy().copy()"
      ],
      "execution_count": null,
      "outputs": []
    },
    {
      "cell_type": "markdown",
      "metadata": {
        "id": "PXO0ppo1YqyM"
      },
      "source": [
        "Function Membership pelayanan"
      ]
    },
    {
      "cell_type": "code",
      "metadata": {
        "id": "6bid-tTnj0MG",
        "colab": {
          "base_uri": "https://localhost:8080/",
          "height": 300
        },
        "outputId": "dd1d7fa7-6719-43d5-e051-129f9ae4faab"
      },
      "source": [
        "def pelayanan_bagus(x, a=85, b=90):\n",
        "    if x <= a:\n",
        "      return 0\n",
        "    elif x > a and x < b:\n",
        "      return ((x-a)/(b-a))\n",
        "    elif x >= b:\n",
        "      return 1\n",
        "\n",
        "def pelayanan_biasa(x, a=40, b=65, c=70, d=90):\n",
        "    if x <= a:\n",
        "      return 0\n",
        "    elif x > a and x < b:\n",
        "      return ((x-a)/(b-a))\n",
        "    elif x >= b and x <= c :\n",
        "      return 1\n",
        "    elif x > c and x <= d :\n",
        "      return -((x-d)/(d-c))\n",
        "    elif x >= d:\n",
        "      return 0\n",
        "\n",
        "def pelayanan_buruk(x, c=5, d=65):\n",
        "    if x <= c:\n",
        "      return 1\n",
        "    if x > c and x <= d:\n",
        "      return -((x-d)/(d-c))\n",
        "    elif x >= d:\n",
        "      return 0\n",
        "\n",
        "#Visualisasi Membership Function Pelayanan\n",
        "nilai_1 = [0, 5, 40, 65, 70, 85, 90, 100]\n",
        "kategori_1 = [1, 1, 0, 0, 0, 0, 0, 0]\n",
        "\n",
        "nilai_2 = [0, 5, 40, 65, 70, 85, 90, 100]\n",
        "kategori_2 = [0, 0, 1, 1, 1, 0, 0, 0]\n",
        "\n",
        "nilai_3 = [0, 5, 40, 65, 70, 85, 90, 100]\n",
        "kategori_3 = [0, 0, 0, 0, 0, 1, 1, 1]\n",
        "\n",
        "plt.xticks([0, 5, 40, 65, 70, 85, 90, 100])\n",
        "plt.title('Keanggotaan Kualitas pelayanan',fontsize=15)\n",
        "\n",
        "plt.plot(nilai_1, kategori_1, color='red', label='Buruk')\n",
        "plt.plot(nilai_2, kategori_2, color='orange',label='Biasa')\n",
        "plt.plot(nilai_3, kategori_3, color='green',label='Bagus')\n",
        "plt.legend()"
      ],
      "execution_count": null,
      "outputs": [
        {
          "output_type": "execute_result",
          "data": {
            "text/plain": [
              "<matplotlib.legend.Legend at 0x7f5692629250>"
            ]
          },
          "metadata": {
            "tags": []
          },
          "execution_count": 5
        },
        {
          "output_type": "display_data",
          "data": {
            "image/png": "[encoded data removed]",
            "text/plain": [
              "<Figure size 432x288 with 1 Axes>"
            ]
          },
          "metadata": {
            "tags": [],
            "needs_background": "light"
          }
        }
      ]
    },
    {
      "cell_type": "markdown",
      "metadata": {
        "id": "Vn1ArTUncV_S"
      },
      "source": [
        "Function Membership Kualitas Makanan"
      ]
    },
    {
      "cell_type": "code",
      "metadata": {
        "id": "jYHGN11acWSp",
        "colab": {
          "base_uri": "https://localhost:8080/",
          "height": 300
        },
        "outputId": "fff6ba15-c988-438f-9cc4-e42491ca3606"
      },
      "source": [
        "def makanan_lezat(x, a=8, b=9):\n",
        "    if x <= a:\n",
        "      return 0\n",
        "    elif x > a and x < b:\n",
        "      return ((x-a)/(b-a))\n",
        "    elif x >= b:\n",
        "      return 1\n",
        "\n",
        "def makanan_biasa(x, a=1.5, b=4.5, c=5, d=9):\n",
        "    if x <= a:\n",
        "      return 0\n",
        "    elif x > a and x < b:\n",
        "      return ((x-a)/(b-a))\n",
        "    elif x >= b and x <= c :\n",
        "      return 1\n",
        "    elif x > c and x <= d :\n",
        "      return -((x-d)/(d-c))\n",
        "    elif x >= d:\n",
        "      return 0\n",
        "\n",
        "def makanan_buruk(x, c=0.1, d=4.5):\n",
        "    if x <= c:\n",
        "      return 1\n",
        "    elif x > c and x <= d:\n",
        "      return -((x-d)/(d-c))\n",
        "    elif x >= d:\n",
        "      return 0\n",
        "\n",
        "#Visualisasi Membership Function Makanan\n",
        "nilai_1 = [0, 0.1, 1.5, 4.5, 5, 8, 9, 10]\n",
        "Kategori_1 = [1, 1, 1, 0, 0, 0, 0, 0]\n",
        "\n",
        "nilai_2 = [0, 0.1, 1.5, 4.5, 5, 8, 9, 10]\n",
        "kategori_2 = [0, 0, 0, 1, 1, 0, 0, 0]\n",
        "\n",
        "nilai_3 = [0, 0.1, 1.5, 4.5, 5, 8, 9, 10]\n",
        "kategori_3 = [0, 0, 0, 0, 0, 1, 1, 1]\n",
        "\n",
        "plt.xticks([0, 0.1, 1.5, 4.5, 5, 8, 9, 10])\n",
        "plt.title('Keangotaan Kualitas Makanan', fontSize=15)\n",
        "\n",
        "plt.plot(nilai_1, kategori_1, color='red', label='Buruk')\n",
        "plt.plot(nilai_2, kategori_2, color='orange',label='Biasa')\n",
        "plt.plot(nilai_3, kategori_3, color='green',label='Lezat')\n",
        "plt.legend()"
      ],
      "execution_count": null,
      "outputs": [
        {
          "output_type": "execute_result",
          "data": {
            "text/plain": [
              "<matplotlib.legend.Legend at 0x7f569208f610>"
            ]
          },
          "metadata": {
            "tags": []
          },
          "execution_count": 6
        },
        {
          "output_type": "display_data",
          "data": {
            "image/png": "[encoded data removed]",
            "text/plain": [
              "<Figure size 432x288 with 1 Axes>"
            ]
          },
          "metadata": {
            "tags": [],
            "needs_background": "light"
          }
        }
      ]
    },
    {
      "cell_type": "markdown",
      "metadata": {
        "id": "ji1cw1Cbjg_v"
      },
      "source": [
        "Function Fuzzifikasi"
      ]
    },
    {
      "cell_type": "markdown",
      "metadata": {
        "id": "MlSa302AjhI-"
      },
      "source": [
        "Function Inferensi"
      ]
    },
    {
      "cell_type": "code",
      "metadata": {
        "id": "kyqYiigJj0mW"
      },
      "source": [
        "def inferensi(kualitas_pelayanan, kualitas_makanan):\n",
        "  keputusan = {'iya': [],'mungkin': [], 'tidak': []}\n",
        "\n",
        "  keputusan['iya'].append(min(kualitas_pelayanan['bagus'],kualitas_makanan['biasa']))\n",
        "  keputusan['iya'].append(min(kualitas_pelayanan['bagus'],kualitas_makanan['lezat']))\n",
        "  keputusan['mungkin'].append(min(kualitas_pelayanan['bagus'],kualitas_makanan['buruk']))\n",
        "\n",
        "  keputusan['mungkin'].append(min(kualitas_pelayanan['biasa'],kualitas_makanan['lezat']))\n",
        "  keputusan['mungkin'].append(min(kualitas_pelayanan['biasa'],kualitas_makanan['biasa']))\n",
        "  keputusan['tidak'].append(min(kualitas_pelayanan['biasa'],kualitas_makanan['buruk']))\n",
        "\n",
        "  keputusan['mungkin'].append(min(kualitas_pelayanan['buruk'],kualitas_makanan['lezat']))\n",
        "  keputusan['mungkin'].append(min(kualitas_pelayanan['buruk'],kualitas_makanan['biasa']))\n",
        "  keputusan['tidak'].append(min(kualitas_pelayanan['buruk'],kualitas_makanan['buruk']))\n",
        "\n",
        "  keputusan['iya'] = max(keputusan['iya'])\n",
        "  keputusan['mungkin'] = max(keputusan['mungkin'])\n",
        "  keputusan['tidak'] = max(keputusan['tidak'])\n",
        "\n",
        "  return keputusan\n"
      ],
      "execution_count": null,
      "outputs": []
    },
    {
      "cell_type": "markdown",
      "metadata": {
        "id": "aCa9fum_jhPe"
      },
      "source": [
        "Function Defuzzifikasi (Metode Sugeno)"
      ]
    },
    {
      "cell_type": "code",
      "metadata": {
        "id": "bX9W6byIj1AW",
        "colab": {
          "base_uri": "https://localhost:8080/",
          "height": 269
        },
        "outputId": "2dfea409-bb03-4030-9d37-9be50bc9cb11"
      },
      "source": [
        "def defuzzifikasi(keputusan):\n",
        "    a = ((keputusan['iya'] * 100) + (keputusan['mungkin'] * 85) + (keputusan['tidak'] * 70))\n",
        "    b = keputusan['iya'] + keputusan['mungkin'] + keputusan['tidak']\n",
        "    hasil_defuzzifikasi = a/b\n",
        "    hasil_defuzzifikasi = \"{:0.2f}\".format(hasil_defuzzifikasi)\n",
        "\n",
        "    return hasil_defuzzifikasi\n",
        "\n",
        "#Visualisasi Keanggotaan Output\n",
        "plt.axvline(70, 0, 1, color='red', label='tidak')\n",
        "plt.axvline(85, 0, 1, color='orange', label='mungkin')\n",
        "plt.axvline(100, 0, 1, color='green', label='iya')\n",
        "plt.legend()\n",
        "plt.show()\n"
      ],
      "execution_count": null,
      "outputs": [
        {
          "output_type": "display_data",
          "data": {
            "image/png": "[encoded data removed]",
            "text/plain": [
              "<Figure size 432x288 with 1 Axes>"
            ]
          },
          "metadata": {
            "tags": [],
            "needs_background": "light"
          }
        }
      ]
    },
    {
      "cell_type": "markdown",
      "metadata": {
        "id": "PYdvWULgjhWH"
      },
      "source": [
        "Main Function"
      ]
    },
    {
      "cell_type": "code",
      "metadata": {
        "id": "IrEaKCcqj1aO",
        "colab": {
          "base_uri": "https://localhost:8080/"
        },
        "outputId": "c7f87abd-7dd7-42b6-d62c-d2e0b67977b7"
      },
      "source": [
        "def fuzzy(restoran):\n",
        "  nilai = []\n",
        "  hasil = restoran\n",
        "  hasil = np.delete(hasil, 1, 1)\n",
        "  hasil = np.delete(hasil, 1, 1)\n",
        "\n",
        "\n",
        "  for i in range(restoran.shape[0]):\n",
        "    #Fuzzifikasi\n",
        "    pelayanan = fuzzifikasi_pelayanan(restoran[i,1])\n",
        "    makanan = fuzzifikasi_makanan(restoran[i,2])\n",
        "\n",
        "    #Inferensi\n",
        "    keputusan =  inferensi(pelayanan, makanan)\n",
        "\n",
        "    #Defuzzifikasi\n",
        "    nilai_fuzzy = defuzzifikasi(keputusan)\n",
        "    nilai.append(nilai_fuzzy)\n",
        "\n",
        "\n",
        "  hasil = pd.DataFrame(hasil, columns=['ID Restoran'])\n",
        "  hasil['Nilai'] = pd.Series(nilai, index=hasil.index)\n",
        "  hasil.Nilai = pd.to_numeric(hasil.Nilai, errors='coerce')\n",
        "  hasil.sort_values(by=['Nilai'], inplace=True, ascending=False)\n",
        "  hasil = hasil.head(10)\n",
        "\n",
        "  return hasil\n",
        "\n",
        "result = fuzzy(restoran)\n",
        "print(result)"
      ],
      "execution_count": null,
      "outputs": [
        {
          "output_type": "stream",
          "text": [
            "    ID Restoran   Nilai\n",
            "41           42  100.00\n",
            "23           24  100.00\n",
            "33           34   98.20\n",
            "78           79   95.91\n",
            "90           91   93.92\n",
            "51           52   93.92\n",
            "68           69   92.50\n",
            "2             3   88.40\n",
            "65           66   85.00\n",
            "64           65   85.00\n"
          ],
          "name": "stdout"
        }
      ]
    },
    {
      "cell_type": "markdown",
      "metadata": {
        "id": "V52nHM7Ajyfu"
      },
      "source": [
        "Function Output File"
      ]
    },
    {
      "cell_type": "code",
      "metadata": {
        "id": "2_bdOPbpj12W",
        "colab": {
          "base_uri": "https://localhost:8080/"
        },
        "outputId": "12847cfd-afed-4c99-9650-680ae833552a"
      },
      "source": [
        "#Output berupa ID dari 10 Restoran terbaik\n",
        "file_hasil = pd.DataFrame(result)\n",
        "file_hasil = file_hasil.drop(columns=['Nilai'])\n",
        "print(file_hasil)\n",
        "\n",
        "#Menyimpan output ke dalam file 'peringkat.xlsx'\n",
        "filepath = 'peringkat.xlsx'\n",
        "file_hasil.to_excel(filepath, index=False)"
      ],
      "execution_count": null,
      "outputs": [
        {
          "output_type": "stream",
          "text": [
            "    ID Restoran\n",
            "41           42\n",
            "23           24\n",
            "33           34\n",
            "78           79\n",
            "90           91\n",
            "51           52\n",
            "68           69\n",
            "2             3\n",
            "65           66\n",
            "64           65\n"
          ],
          "name": "stdout"
        }
      ]
    }
  ]
}