{
  "nbformat": 4,
  "nbformat_minor": 0,
  "metadata": {
    "colab": {
      "provenance": []
    },
    "kernelspec": {
      "name": "python3",
      "display_name": "Python 3"
    },
    "language_info": {
      "name": "python"
    }
  },
  "cells": [
    {
      "cell_type": "code",
      "metadata": {
        "id": "SlbCI4OmYhES"
      },
      "source": [
        "#Library yang digunakan\n",
        "import random\n",
        "import math"
      ],
      "execution_count": null,
      "outputs": []
    },
    {
      "cell_type": "code",
      "metadata": {
        "id": "15Nf6MKM0ozo"
      },
      "source": [
        "#Function untuk membuat kromosom\n",
        "def kromosom(ukuran, min, max):\n",
        "    return [round(random.uniform(min, max), 2) for i in range(ukuran)]"
      ],
      "execution_count": null,
      "outputs": []
    },
    {
      "cell_type": "code",
      "metadata": {
        "id": "Qp_rKjEw0yJv"
      },
      "source": [
        "#Function untuk membuat populasi\n",
        "def buat_populasi(ukuran_populasi, ukuran, min, max):\n",
        "    populasi = [kromosom(ukuran, min, max) for i in range(ukuran_populasi)]\n",
        "    return populasi"
      ],
      "execution_count": null,
      "outputs": []
    },
    {
      "cell_type": "code",
      "metadata": {
        "id": "poQEt2Jo7cc8"
      },
      "source": [
        "#Function untuk men-dekode kromosom menggunakan representasi real\n",
        "def dekode_kromosom(kromosom):\n",
        "    partisi = len(kromosom) // 2\n",
        "    dekode_a = []\n",
        "    dekode_b = []\n",
        "    dekode_a += kromosom[:partisi]\n",
        "    dekode_b += kromosom[partisi:]\n",
        "    x = -1 + ((2-(-1))/partisi) * (sum(dekode_a))\n",
        "    y = -1 + ((1-(-1))/partisi) * (sum(dekode_b))\n",
        "\n",
        "    return x, y"
      ],
      "execution_count": null,
      "outputs": []
    },
    {
      "cell_type": "code",
      "metadata": {
        "id": "ieU6WbaDXk6b"
      },
      "source": [
        "#Function untuk menentukan nilai fitness dari sebuah kromosom\n",
        "def fitness_function(kromosom):\n",
        "    x, y = dekode_kromosom(kromosom)\n",
        "\n",
        "    return (((math.cos(x**2))*(math.sin(y**2))) + (x + y))"
      ],
      "execution_count": null,
      "outputs": []
    },
    {
      "cell_type": "code",
      "metadata": {
        "id": "Dwa2jlAAXvQh"
      },
      "source": [
        "#Function untuk menentukan nilai total fitness dari sebuah populasi\n",
        "def fitness_total(populasi):\n",
        "    total = 0\n",
        "    for i in range(len(populasi)):\n",
        "            total += fitness_function(populasi[i])\n",
        "    return total"
      ],
      "execution_count": null,
      "outputs": []
    },
    {
      "cell_type": "code",
      "metadata": {
        "id": "RQkNf42DXmxP"
      },
      "source": [
        "#Function untuk melakukan seleksi menggunakan roulette selection\n",
        "def roulette_selection(populasi):\n",
        "    r = random.random()\n",
        "    total_fitness = fitness_total(populasi)\n",
        "\n",
        "    i = 1\n",
        "    while(r > 0):\n",
        "        r -= fitness_function(populasi[i])/total_fitness\n",
        "        i += 1\n",
        "\n",
        "        if(i == (len(populasi) - 1)):\n",
        "            break\n",
        "\n",
        "    return populasi[i]"
      ],
      "execution_count": null,
      "outputs": []
    },
    {
      "cell_type": "code",
      "metadata": {
        "id": "XB_dym0RX1hi"
      },
      "source": [
        "#Function untuk mengurutkan ranking dari kromosom berdasarkan perhitungan fitness\n",
        "#Urutan pertama merupakan kromosom dengan nilai fitness paling rendah\n",
        "def best_population(populasi):\n",
        "    populasi_sort = sorted(populasi, key=fitness_function)\n",
        "    return populasi_sort"
      ],
      "execution_count": null,
      "outputs": []
    },
    {
      "cell_type": "code",
      "metadata": {
        "id": "z6IGTcTPXpE-"
      },
      "source": [
        "#Function untuk melakukan crossover\n",
        "def crossover(kromosom_a, kromosom_b):\n",
        "    prob = random.random()\n",
        "    co_point = random.randint(1, (len(kromosom_a)-2))\n",
        "    hasil_crossover = []\n",
        "\n",
        "    if(prob < pc):\n",
        "        kromosom_a[:co_point], kromosom_a[co_point:] = kromosom_a[:co_point], kromosom_b[co_point:]\n",
        "        kromosom_b[:co_point], kromosom_b[co_point:] = kromosom_b[:co_point], kromosom_a[co_point:]\n",
        "\n",
        "    hasil_crossover.append(kromosom_a)\n",
        "    hasil_crossover.append(kromosom_b)\n",
        "\n",
        "    return hasil_crossover"
      ],
      "execution_count": null,
      "outputs": []
    },
    {
      "cell_type": "code",
      "metadata": {
        "id": "q3MvYTrZXqeA"
      },
      "source": [
        "#Function untuk melakukan mutasi\n",
        "def mutasi(kromosom1, kromosom2, min, max):\n",
        "    hasil_mutasi = []\n",
        "    prob = random.random()\n",
        "    if(prob < pm):\n",
        "        mut_idx = random.randint(0, len(kromosom1)-1)\n",
        "        kromosom1[mut_idx] = round(random.uniform(min, max), 2)\n",
        "\n",
        "    prob = random.random()\n",
        "    if(prob < pm):\n",
        "        mut_idx = random.randint(0, len(kromosom2)-1)\n",
        "        kromosom2[mut_idx] = round(random.uniform(min, max), 2)\n",
        "\n",
        "    hasil_mutasi.append(kromosom1)\n",
        "    hasil_mutasi.append(kromosom2)\n",
        "\n",
        "    return hasil_mutasi"
      ],
      "execution_count": null,
      "outputs": []
    },
    {
      "cell_type": "code",
      "metadata": {
        "id": "oEyfCZjrXr4X"
      },
      "source": [
        "#Function untuk menentukan individu yang bertahan di generasi selanjutnya (survivor selection)\n",
        "def pergantian_generasi(populasi):\n",
        "    next_gen = []\n",
        "    current_pop = best_population(populasi)\n",
        "\n",
        "\n",
        "    parent_1 = roulette_selection(current_pop)\n",
        "    parent_2 = roulette_selection(current_pop)\n",
        "\n",
        "    kromosom = crossover(parent_1, parent_2)\n",
        "    mutan = mutasi(kromosom[0], kromosom[1], min, max)\n",
        "    current_pop[0] = mutan[0]\n",
        "    current_pop[1] = mutan[1]\n",
        "    next_gen = best_population(current_pop)\n",
        "\n",
        "    return next_gen"
      ],
      "execution_count": null,
      "outputs": []
    },
    {
      "cell_type": "code",
      "metadata": {
        "id": "jj7jDqTVX9nq"
      },
      "source": [
        "#Parameter\n",
        "\n",
        "#Jumlah generasi yang akan diproses pada algoritma dan sebagai kriteria penghentian evolusi\n",
        "jumlah_generasi = 10\n",
        "\n",
        "#Jumlah kromosom dalam satu populasi\n",
        "ukuran_populasi = 100\n",
        "\n",
        "#Jumlah gen dalam satu kromosom\n",
        "ukuran_kromosom = 8\n",
        "\n",
        "#Batas minimum dan maksimum dari angka random yang akan di-generate (representasi real)\n",
        "min = 0.0\n",
        "max = 1.0\n",
        "\n",
        "#Probabilitas terjadinya crossover dan mutasi\n",
        "pc = 0.7\n",
        "pm = 0.01"
      ],
      "execution_count": null,
      "outputs": []
    },
    {
      "cell_type": "code",
      "metadata": {
        "colab": {
          "base_uri": "https://localhost:8080/"
        },
        "id": "HKLtqRTVX-Vp",
        "outputId": "8459f110-832b-45d2-cf62-bdab823a178b"
      },
      "source": [
        "#Fungsi utama pada Genetic Algorithm\n",
        "populasi = buat_populasi(ukuran_populasi, ukuran_kromosom, min, max)\n",
        "\n",
        "i = 0\n",
        "while i in range(jumlah_generasi):\n",
        "\n",
        "    populasi = pergantian_generasi(populasi)\n",
        "\n",
        "    i += 1\n",
        "\n",
        "print(\"===================================================================\")\n",
        "best_kromosom = best_population(populasi)[-1]\n",
        "print(\"Hasil Akhir: \")\n",
        "print(\"Kromosom terbaik: \", best_kromosom)\n",
        "hasil = []\n",
        "hasil = dekode_kromosom(best_kromosom)\n",
        "print(\"x: \", hasil[0])\n",
        "print(\"y: \", hasil[1])\n",
        "print(\"Nilai fungsi: \", fitness_function(best_kromosom))\n",
        "print(\"===================================================================\")"
      ],
      "execution_count": null,
      "outputs": [
        {
          "output_type": "stream",
          "text": [
            "===================================================================\n",
            "Hasil Akhir: \n",
            "Kromosom terbaik:  [0.71, 0.79, 0.93, 0.81, 0.13, 0.86, 0.77, 0.96]\n",
            "x:  1.4300000000000002\n",
            "y:  0.3599999999999999\n",
            "Nilai fungsi:  1.730997757546513\n",
            "===================================================================\n"
          ],
          "name": "stdout"
        }
      ]
    }
  ]
}