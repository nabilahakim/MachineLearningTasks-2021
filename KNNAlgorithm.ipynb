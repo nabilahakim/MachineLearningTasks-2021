{
  "nbformat": 4,
  "nbformat_minor": 0,
  "metadata": {
    "colab": {
      "provenance": []
    },
    "kernelspec": {
      "name": "python3",
      "display_name": "Python 3"
    },
    "language_info": {
      "name": "python"
    }
  },
  "cells": [
    {
      "cell_type": "markdown",
      "metadata": {
        "id": "p47kQY2Sb3xf"
      },
      "source": [
        "Library yang digunakan"
      ]
    },
    {
      "cell_type": "code",
      "metadata": {
        "id": "rX3M5HQvcFvf"
      },
      "source": [
        "import pandas as pd\n",
        "from math import sqrt\n",
        "import numpy as np\n",
        "import matplotlib.pyplot as plt"
      ],
      "execution_count": null,
      "outputs": []
    },
    {
      "cell_type": "markdown",
      "metadata": {
        "id": "ENL_wVXnb6IG"
      },
      "source": [
        "Input File"
      ]
    },
    {
      "cell_type": "code",
      "metadata": {
        "id": "XybWUdvTcGGf"
      },
      "source": [
        "mobil = pd.read_excel('mobil.xls')\n",
        "#mobil = mobil.to_numpy().copy()"
      ],
      "execution_count": null,
      "outputs": []
    },
    {
      "cell_type": "markdown",
      "metadata": {
        "id": "emvu-CL5b8Dn"
      },
      "source": [
        "Pra Pemrosesan Data"
      ]
    },
    {
      "cell_type": "code",
      "metadata": {
        "colab": {
          "base_uri": "https://localhost:8080/"
        },
        "id": "-KtL0kq9jt4v",
        "outputId": "a6c06f0a-2440-4426-9ef8-51128c95925b"
      },
      "source": [
        "#Melihat 5 data teratas\n",
        "print(mobil)"
      ],
      "execution_count": null,
      "outputs": [
        {
          "output_type": "stream",
          "text": [
            "              Nama Mobil  Ukuran  ...  Kecepatan  Harga (Ratus Juta)\n",
            "0            Toyota Agya       4  ...          6                1.00\n",
            "1          Daihatsu Alya       4  ...          6                1.10\n",
            "2          Toyota Avanza       6  ...          6                2.00\n",
            "3         Daihatsu Xenia       6  ...          6                1.75\n",
            "4                Xpander       7  ...          7                2.25\n",
            "5                 Livina       7  ...          7                2.10\n",
            "6                Karimun       3  ...          5                1.20\n",
            "7          Toyota Innova       8  ...          7                4.00\n",
            "8                Alphard       9  ...          8               10.00\n",
            "9            Toyota Vios       5  ...          8                2.50\n",
            "10            Honda City       5  ...          8                2.70\n",
            "11          Toyota Hiace      10  ...          6                5.00\n",
            "12       Toyota Fortuner       9  ...          8                5.00\n",
            "13           Toyota Foxy       9  ...          7                5.50\n",
            "14  Toyota Corolla Altis       5  ...          9                6.00\n",
            "15         Suzuki Ertiga       7  ...          7                2.30\n",
            "16          Suzuki Carry       7  ...          5                0.80\n",
            "\n",
            "[17 rows x 6 columns]\n"
          ],
          "name": "stdout"
        }
      ]
    },
    {
      "cell_type": "code",
      "metadata": {
        "id": "uOYCqX0xcGwn",
        "colab": {
          "base_uri": "https://localhost:8080/"
        },
        "outputId": "856b1dba-2291-4483-cd50-aebfe10d8124"
      },
      "source": [
        "#Melihat informasi mengenai dataset\n",
        "mobil.info()\n"
      ],
      "execution_count": null,
      "outputs": [
        {
          "output_type": "stream",
          "text": [
            "<class 'pandas.core.frame.DataFrame'>\n",
            "RangeIndex: 17 entries, 0 to 16\n",
            "Data columns (total 6 columns):\n",
            " #   Column              Non-Null Count  Dtype  \n",
            "---  ------              --------------  -----  \n",
            " 0   Nama Mobil          17 non-null     object \n",
            " 1   Ukuran              17 non-null     int64  \n",
            " 2   Kenyamanan          17 non-null     int64  \n",
            " 3   Irit                17 non-null     int64  \n",
            " 4   Kecepatan           17 non-null     int64  \n",
            " 5   Harga (Ratus Juta)  17 non-null     float64\n",
            "dtypes: float64(1), int64(4), object(1)\n",
            "memory usage: 944.0+ bytes\n"
          ],
          "name": "stdout"
        }
      ]
    },
    {
      "cell_type": "code",
      "metadata": {
        "colab": {
          "base_uri": "https://localhost:8080/",
          "height": 234
        },
        "id": "cS5QqOBfqzDZ",
        "outputId": "897df9fb-e862-46a0-eaa1-dd319316c551"
      },
      "source": [
        "#Menampilkan statistik deskriptif dari dataset\n",
        "mobil.describe(include='all').T"
      ],
      "execution_count": null,
      "outputs": [
        {
          "output_type": "execute_result",
          "data": {
            "text/html": [
              "<div>\n",
              "<style scoped>\n",
              "    .dataframe tbody tr th:only-of-type {\n",
              "        vertical-align: middle;\n",
              "    }\n",
              "\n",
              "    .dataframe tbody tr th {\n",
              "        vertical-align: top;\n",
              "    }\n",
              "\n",
              "    .dataframe thead th {\n",
              "        text-align: right;\n",
              "    }\n",
              "</style>\n",
              "<table border=\"1\" class=\"dataframe\">\n",
              "  <thead>\n",
              "    <tr style=\"text-align: right;\">\n",
              "      <th></th>\n",
              "      <th>count</th>\n",
              "      <th>unique</th>\n",
              "      <th>top</th>\n",
              "      <th>freq</th>\n",
              "      <th>mean</th>\n",
              "      <th>std</th>\n",
              "      <th>min</th>\n",
              "      <th>25%</th>\n",
              "      <th>50%</th>\n",
              "      <th>75%</th>\n",
              "      <th>max</th>\n",
              "    </tr>\n",
              "  </thead>\n",
              "  <tbody>\n",
              "    <tr>\n",
              "      <th>Nama Mobil</th>\n",
              "      <td>17</td>\n",
              "      <td>17</td>\n",
              "      <td>Toyota Hiace</td>\n",
              "      <td>1</td>\n",
              "      <td>NaN</td>\n",
              "      <td>NaN</td>\n",
              "      <td>NaN</td>\n",
              "      <td>NaN</td>\n",
              "      <td>NaN</td>\n",
              "      <td>NaN</td>\n",
              "      <td>NaN</td>\n",
              "    </tr>\n",
              "    <tr>\n",
              "      <th>Ukuran</th>\n",
              "      <td>17</td>\n",
              "      <td>NaN</td>\n",
              "      <td>NaN</td>\n",
              "      <td>NaN</td>\n",
              "      <td>6.52941</td>\n",
              "      <td>2.03463</td>\n",
              "      <td>3</td>\n",
              "      <td>5</td>\n",
              "      <td>7</td>\n",
              "      <td>8</td>\n",
              "      <td>10</td>\n",
              "    </tr>\n",
              "    <tr>\n",
              "      <th>Kenyamanan</th>\n",
              "      <td>17</td>\n",
              "      <td>NaN</td>\n",
              "      <td>NaN</td>\n",
              "      <td>NaN</td>\n",
              "      <td>6.35294</td>\n",
              "      <td>2.23442</td>\n",
              "      <td>3</td>\n",
              "      <td>4</td>\n",
              "      <td>7</td>\n",
              "      <td>8</td>\n",
              "      <td>10</td>\n",
              "    </tr>\n",
              "    <tr>\n",
              "      <th>Irit</th>\n",
              "      <td>17</td>\n",
              "      <td>NaN</td>\n",
              "      <td>NaN</td>\n",
              "      <td>NaN</td>\n",
              "      <td>6.94118</td>\n",
              "      <td>1.78433</td>\n",
              "      <td>4</td>\n",
              "      <td>6</td>\n",
              "      <td>7</td>\n",
              "      <td>9</td>\n",
              "      <td>10</td>\n",
              "    </tr>\n",
              "    <tr>\n",
              "      <th>Kecepatan</th>\n",
              "      <td>17</td>\n",
              "      <td>NaN</td>\n",
              "      <td>NaN</td>\n",
              "      <td>NaN</td>\n",
              "      <td>6.82353</td>\n",
              "      <td>1.13111</td>\n",
              "      <td>5</td>\n",
              "      <td>6</td>\n",
              "      <td>7</td>\n",
              "      <td>8</td>\n",
              "      <td>9</td>\n",
              "    </tr>\n",
              "    <tr>\n",
              "      <th>Harga (Ratus Juta)</th>\n",
              "      <td>17</td>\n",
              "      <td>NaN</td>\n",
              "      <td>NaN</td>\n",
              "      <td>NaN</td>\n",
              "      <td>3.24706</td>\n",
              "      <td>2.4066</td>\n",
              "      <td>0.8</td>\n",
              "      <td>1.75</td>\n",
              "      <td>2.3</td>\n",
              "      <td>5</td>\n",
              "      <td>10</td>\n",
              "    </tr>\n",
              "  </tbody>\n",
              "</table>\n",
              "</div>"
            ],
            "text/plain": [
              "                   count unique           top freq  ...   25%  50%  75%  max\n",
              "Nama Mobil            17     17  Toyota Hiace    1  ...   NaN  NaN  NaN  NaN\n",
              "Ukuran                17    NaN           NaN  NaN  ...     5    7    8   10\n",
              "Kenyamanan            17    NaN           NaN  NaN  ...     4    7    8   10\n",
              "Irit                  17    NaN           NaN  NaN  ...     6    7    9   10\n",
              "Kecepatan             17    NaN           NaN  NaN  ...     6    7    8    9\n",
              "Harga (Ratus Juta)    17    NaN           NaN  NaN  ...  1.75  2.3    5   10\n",
              "\n",
              "[6 rows x 11 columns]"
            ]
          },
          "metadata": {
            "tags": []
          },
          "execution_count": 58
        }
      ]
    },
    {
      "cell_type": "code",
      "metadata": {
        "colab": {
          "base_uri": "https://localhost:8080/"
        },
        "id": "xlKiGDDzXoUF",
        "outputId": "46a2ccd8-62cc-4c5e-a8fc-497f109b7749"
      },
      "source": [
        "#Memeriksa adanya missing value pada dataset\n",
        "mobil.isna().sum()"
      ],
      "execution_count": null,
      "outputs": [
        {
          "output_type": "execute_result",
          "data": {
            "text/plain": [
              "Nama Mobil            0\n",
              "Ukuran                0\n",
              "Kenyamanan            0\n",
              "Irit                  0\n",
              "Kecepatan             0\n",
              "Harga (Ratus Juta)    0\n",
              "dtype: int64"
            ]
          },
          "metadata": {
            "tags": []
          },
          "execution_count": 59
        }
      ]
    },
    {
      "cell_type": "markdown",
      "metadata": {
        "id": "k8D6Dsdxb-LX"
      },
      "source": [
        "Perhitungan Ukuran Jarak"
      ]
    },
    {
      "cell_type": "code",
      "metadata": {
        "id": "RJq7ulNTcHLX"
      },
      "source": [
        "#Perhitungan jarak menggunakan Euclidean Distance\n",
        "def euclidean(data1, data2):\n",
        "\n",
        "  ukuran1 = data1.get('Ukuran')\n",
        "  nyaman1 = data1.get('Kenyamanan')\n",
        "  irit1 = data1.get('Irit')\n",
        "  cepat1 = data1.get('Kecepatan')\n",
        "  harga1 = data1.get('Harga (Ratus Juta)')\n",
        "\n",
        "\n",
        "  ukuran2 = data2.get('Ukuran')\n",
        "  nyaman2 = data2.get('Kenyamanan')\n",
        "  irit2 = data2.get('Irit')\n",
        "  cepat2 = data2.get('Kecepatan')\n",
        "  harga2 = data2.get('Harga (Ratus Juta)')\n",
        "\n",
        "  jarak = sqrt((ukuran1 - ukuran2)**2 + (nyaman1 - nyaman2)**2 + (irit1 - irit2)**2 + (cepat1- cepat2)**2 + (harga1 - harga2)**2)\n",
        "\n",
        "  return jarak\n",
        "\n",
        "#Perthitungan jarak menggunakan Manhattan Distance\n",
        "def manhattan(data1, data2):\n",
        "\n",
        "  ukuran1 = data1.get('Ukuran')\n",
        "  nyaman1 = data1.get('Kenyamanan')\n",
        "  irit1 = data1.get('Irit')\n",
        "  cepat1 = data1.get('Kecepatan')\n",
        "  harga1 = data1.get('Harga (Ratus Juta)')\n",
        "\n",
        "\n",
        "  ukuran2 = data2.get('Ukuran')\n",
        "  nyaman2 = data2.get('Kenyamanan')\n",
        "  irit2 = data2.get('Irit')\n",
        "  cepat2 = data2.get('Kecepatan')\n",
        "  harga2 = data2.get('Harga (Ratus Juta)')\n",
        "\n",
        "  jarak = abs(ukuran1 - ukuran2) + abs(nyaman1 - nyaman2) + abs(irit1 - irit2) + abs(cepat1- cepat2) + abs(harga1 - harga2)\n",
        "\n",
        "  return jarak\n",
        "\n",
        "def minkowski(data1, data2):\n",
        "\n",
        "  ukuran1 = data1.get('Ukuran')\n",
        "  nyaman1 = data1.get('Kenyamanan')\n",
        "  irit1 = data1.get('Irit')\n",
        "  cepat1 = data1.get('Kecepatan')\n",
        "  harga1 = data1.get('Harga (Ratus Juta)')\n",
        "\n",
        "\n",
        "  ukuran2 = data2.get('Ukuran')\n",
        "  nyaman2 = data2.get('Kenyamanan')\n",
        "  irit2 = data2.get('Irit')\n",
        "  cepat2 = data2.get('Kecepatan')\n",
        "  harga2 = data2.get('Harga (Ratus Juta)')\n",
        "\n",
        "  p = 1.5\n",
        "  jarak = ((abs(ukuran1 - ukuran2)**p) + (abs(nyaman1 - nyaman2)**p) + (abs(irit1 - irit2)**p) + (abs(cepat1- cepat2)**p) + (abs(harga1 - harga2)**p))**1/p\n",
        "\n",
        "  return jarak\n",
        "\n",
        "\n",
        "def supremum(data1, data2):\n",
        "\n",
        "  ukuran1 = data1.get('Ukuran')\n",
        "  nyaman1 = data1.get('Kenyamanan')\n",
        "  irit1 = data1.get('Irit')\n",
        "  cepat1 = data1.get('Kecepatan')\n",
        "  harga1 = data1.get('Harga (Ratus Juta)')\n",
        "\n",
        "\n",
        "  ukuran2 = data2.get('Ukuran')\n",
        "  nyaman2 = data2.get('Kenyamanan')\n",
        "  irit2 = data2.get('Irit')\n",
        "  cepat2 = data2.get('Kecepatan')\n",
        "  harga2 = data2.get('Harga (Ratus Juta)')\n",
        "\n",
        "\n",
        "  jarak = max(abs(ukuran1 - ukuran2), abs(nyaman1 - nyaman2), abs(irit1 - irit2), abs(cepat1- cepat2), abs(harga1 - harga2))\n",
        "\n",
        "\n",
        "  return jarak\n",
        ""
      ],
      "execution_count": null,
      "outputs": []
    },
    {
      "cell_type": "markdown",
      "metadata": {
        "id": "6GpnTySncAdX"
      },
      "source": [
        "Klasifikasi Menggunakan kNN"
      ]
    },
    {
      "cell_type": "code",
      "metadata": {
        "id": "eeh3v5-tcHo_"
      },
      "source": [
        "def knn(data1, data2, k):\n",
        "  euclidean_result = []\n",
        "  manhattan_result = []\n",
        "  minkowski_result = []\n",
        "  supremum_result = []\n",
        "  for i in range(len(mobil)):\n",
        "    euclidean_result.append([mobil['Nama Mobil'][i], euclidean(data1, data2.iloc[i])])\n",
        "    manhattan_result.append([mobil['Nama Mobil'][i], manhattan(data1, data2.iloc[i])])\n",
        "    minkowski_result.append([mobil['Nama Mobil'][i], minkowski(data1, data2.iloc[i])])\n",
        "    supremum_result.append([mobil['Nama Mobil'][i], supremum(data1, data2.iloc[i])])\n",
        "\n",
        "  euclidean_result.sort(key=lambda x: x[1])\n",
        "  manhattan_result.sort(key=lambda x: x[1])\n",
        "  minkowski_result.sort(key=lambda x: x[1])\n",
        "  supremum_result.sort(key=lambda x: x[1])\n",
        "\n",
        "  euclidean_result = euclidean_result[:k]\n",
        "  manhattan_result = manhattan_result[:k]\n",
        "  minkowski_result = minkowski_result[:k]\n",
        "  supremum_result = supremum_result[:k]\n",
        "\n",
        "  return euclidean_result, manhattan_result, minkowski_result, supremum_result\n",
        "\n"
      ],
      "execution_count": null,
      "outputs": []
    },
    {
      "cell_type": "markdown",
      "metadata": {
        "id": "YWU5oyzpb45o"
      },
      "source": [
        "Main Program"
      ]
    },
    {
      "cell_type": "code",
      "metadata": {
        "colab": {
          "base_uri": "https://localhost:8080/"
        },
        "id": "g5jaYn2_b4Mq",
        "outputId": "ce00763b-92f8-4bf3-d35c-f48e203f0fdd"
      },
      "source": [
        "#Input dari user\n",
        "'''\n",
        "print(\"===========Masukkan kriteria mobil yang diinginkan==========\")\n",
        "ukuran = int(input(\"Ukuran: \"))\n",
        "kenyamanan = int(input(\"Kenyamanan: \"))\n",
        "irit = int(input(\"Irit: \"))\n",
        "kecepatan = int(input(\"Kecepatan: \"))\n",
        "harga = float(input(\"Harga: \"))\n",
        "print(\"============================================================\")\n",
        "'''\n",
        "\n",
        "ukuran, kenyamanan, irit, kecepatan, harga = 4, 5, 6, 7, 4.5\n",
        "user_input = {\n",
        "  'Ukuran': ukuran,\n",
        "  'Kenyamanan' : kenyamanan,\n",
        "  'Irit' : irit,\n",
        "  'Kecepatan' : kecepatan,\n",
        "  'Harga (Ratus Juta)' : harga\n",
        "}\n",
        "k = 3\n",
        "euclidean_sorted, manhattan_sorted, minkowski_sorted, supremum_sorted = knn(user_input, mobil, k)\n",
        "print(\"===========================Hasil============================\")\n",
        "\n",
        "print(\"Dengan Euclidean: \", euclidean_sorted)\n",
        "print(\"Dengan Manhattan: \", manhattan_sorted)\n",
        "print(\"Dengan Minkowski: \", minkowski_sorted)\n",
        "print(\"Dengan Supremum: \", supremum_sorted)\n",
        "\n",
        "print(\"============================================================\")\n",
        "\n",
        "#Mengambil hasil akhir yaitu rekomendasi yang menggunakan perhitungan Supremum Distance\n",
        "result = []\n",
        "for i in range(len(supremum_sorted)):\n",
        "  result.append(supremum_sorted[i][0])\n",
        "print(result)\n",
        "\n",
        "\n",
        "\n",
        "\n"
      ],
      "execution_count": null,
      "outputs": [
        {
          "output_type": "stream",
          "text": [
            "===========================Hasil============================\n",
            "Dengan Euclidean:  [['Toyota Avanza', 3.3541019662496847], ['Daihatsu Xenia', 3.6827299656640586], ['Honda City', 3.903844259188627]]\n",
            "Dengan Manhattan:  [['Toyota Avanza', 5.5], ['Daihatsu Xenia', 6.75], ['Xpander', 7.25]]\n",
            "Dengan Minkowski:  [['Toyota Avanza', 5.187516133304443], ['Daihatsu Xenia', 6.2591908076565765], ['Honda City', 7.074070558937603]]\n",
            "Dengan Supremum:  [['Toyota Avanza', 2.5], ['Daihatsu Xenia', 2.75], ['Xpander', 3]]\n",
            "============================================================\n",
            "['Toyota Avanza', 'Daihatsu Xenia', 'Xpander']\n"
          ],
          "name": "stdout"
        }
      ]
    },
    {
      "cell_type": "markdown",
      "metadata": {
        "id": "XdyaMzfpcDK3"
      },
      "source": [
        "Output File"
      ]
    },
    {
      "cell_type": "code",
      "metadata": {
        "id": "-PItz-frcINn",
        "colab": {
          "base_uri": "https://localhost:8080/"
        },
        "outputId": "24494131-c1d1-4539-8e42-1279fce3c564"
      },
      "source": [
        "\n",
        "#Output berupa ID dari 3 Mobil terbaik\n",
        "file_hasil = pd.DataFrame(result)\n",
        "print(file_hasil)\n",
        "\n",
        "#Menyimpan output ke dalam file 'rekomendasi.xlsx'\n",
        "filepath = 'rekomendasi.xlsx'\n",
        "file_hasil.to_excel(filepath, index=False, header=False)\n"
      ],
      "execution_count": null,
      "outputs": [
        {
          "output_type": "stream",
          "text": [
            "                0\n",
            "0   Toyota Avanza\n",
            "1  Daihatsu Xenia\n",
            "2         Xpander\n"
          ],
          "name": "stdout"
        }
      ]
    }
  ]
}